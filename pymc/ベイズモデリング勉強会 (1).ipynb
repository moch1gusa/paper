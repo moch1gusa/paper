{
 "cells": [
  {
   "cell_type": "code",
   "execution_count": 1,
   "id": "ae04ed56-e060-46e8-bf86-8a4f7a709fd7",
   "metadata": {},
   "outputs": [
    {
     "name": "stderr",
     "output_type": "stream",
     "text": [
      "WARNING (pytensor.tensor.blas): Using NumPy C-API based implementation for BLAS functions.\n"
     ]
    },
    {
     "data": {
      "text/plain": [
       "48"
      ]
     },
     "execution_count": 1,
     "metadata": {},
     "output_type": "execute_result"
    }
   ],
   "source": [
    "#モジュール、パッケージのインポート\n",
    "import pandas as pd\n",
    "import pymc as pm\n",
    "import numpy as np\n",
    "import arviz as az\n",
    "import matplotlib.pyplot as plt\n",
    "import xarray\n",
    "\n",
    "from sklearn import datasets\n",
    "\n",
    "import time\n",
    "\n",
    "import multiprocessing\n",
    "multiprocessing.cpu_count()"
   ]
  },
  {
   "cell_type": "code",
   "execution_count": 2,
   "id": "6c3fd9b8-0bc2-4f24-90a7-d454ef0ad23f",
   "metadata": {},
   "outputs": [
    {
     "name": "stderr",
     "output_type": "stream",
     "text": [
      "No GPU/TPU found, falling back to CPU. (Set TF_CPP_MIN_LOG_LEVEL=0 and rerun for more info.)\n"
     ]
    },
    {
     "name": "stdout",
     "output_type": "stream",
     "text": [
      "cpu\n",
      "[CpuDevice(id=0), CpuDevice(id=1), CpuDevice(id=2), CpuDevice(id=3), CpuDevice(id=4), CpuDevice(id=5), CpuDevice(id=6), CpuDevice(id=7), CpuDevice(id=8), CpuDevice(id=9), CpuDevice(id=10), CpuDevice(id=11), CpuDevice(id=12), CpuDevice(id=13), CpuDevice(id=14), CpuDevice(id=15), CpuDevice(id=16), CpuDevice(id=17), CpuDevice(id=18), CpuDevice(id=19), CpuDevice(id=20), CpuDevice(id=21), CpuDevice(id=22), CpuDevice(id=23), CpuDevice(id=24), CpuDevice(id=25), CpuDevice(id=26), CpuDevice(id=27), CpuDevice(id=28), CpuDevice(id=29), CpuDevice(id=30), CpuDevice(id=31), CpuDevice(id=32), CpuDevice(id=33), CpuDevice(id=34), CpuDevice(id=35), CpuDevice(id=36), CpuDevice(id=37), CpuDevice(id=38), CpuDevice(id=39), CpuDevice(id=40), CpuDevice(id=41), CpuDevice(id=42), CpuDevice(id=43), CpuDevice(id=44), CpuDevice(id=45), CpuDevice(id=46), CpuDevice(id=47)]\n"
     ]
    }
   ],
   "source": [
    "#jaxでcpuの並列処理するための準備\n",
    "\n",
    "# CPU Multi\n",
    "os.environ[\"XLA_FLAGS\"] = '--xla_force_host_platform_device_count=48'\n",
    "\n",
    "import jax\n",
    "print(jax.default_backend())\n",
    "print(jax.devices(\"cpu\"))"
   ]
  },
  {
   "cell_type": "markdown",
   "id": "f5b5c475-2110-4405-a528-1b7b00313ddb",
   "metadata": {
    "tags": []
   },
   "source": [
    "## べイズ線形単回帰"
   ]
  },
  {
   "cell_type": "markdown",
   "id": "b16d7091-2d96-4654-ac4b-4fc05b7ca6c5",
   "metadata": {
    "tags": []
   },
   "source": [
    "### トイデータ作成"
   ]
  },
  {
   "cell_type": "code",
   "execution_count": 3,
   "id": "68f16317-16c2-4fb9-b11e-776272e59552",
   "metadata": {},
   "outputs": [
    {
     "name": "stdout",
     "output_type": "stream",
     "text": [
      "x:[ 4.38632381 -6.18042213 -0.96725161 -1.15216306  3.40130833 -3.2996738\n",
      " -0.51728462 -2.63357525  0.12664124  1.74844564]\n",
      "y:[ 5.06670221 -0.27804706  1.84901348  1.50265046  4.29322715  0.02936113\n",
      "  3.16549203  1.06596645  2.71017604  3.07469307]\n"
     ]
    }
   ],
   "source": [
    "np.random.seed(1)\n",
    "N = 10\n",
    "alpha_real = 2.5\n",
    "beta_real = 0.4\n",
    "sigma_real = np.random.normal(0, 0.5, size=N)\n",
    "\n",
    "x = np.random.normal(0, 3, N)\n",
    "y_real = alpha_real + beta_real * x\n",
    "y = y_real + sigma_real\n",
    "\n",
    "print(f\"x:{x}\")\n",
    "print(f\"y:{y}\")"
   ]
  },
  {
   "cell_type": "code",
   "execution_count": 4,
   "id": "bff14ee2-e5f2-4b10-935c-9cad00069d5b",
   "metadata": {},
   "outputs": [
    {
     "data": {
      "image/png": "[encoded data removed]",
      "text/plain": [
       "<Figure size 640x480 with 1 Axes>"
      ]
     },
     "metadata": {},
     "output_type": "display_data"
    }
   ],
   "source": [
    "#データの可視化\n",
    "plt.figure()\n",
    "plt.scatter(x,y)\n",
    "plt.xlabel(\"x\")\n",
    "plt.ylabel(\"y\")\n",
    "plt.show()"
   ]
  },
  {
   "cell_type": "markdown",
   "id": "b7d6c359-91be-40c4-a2fc-044282774925",
   "metadata": {
    "tags": []
   },
   "source": [
    "### 決定論的な手法"
   ]
  },
  {
   "cell_type": "code",
   "execution_count": 5,
   "id": "55525903-f7e4-4829-b77e-bf550f2e6f4b",
   "metadata": {},
   "outputs": [
    {
     "name": "stdout",
     "output_type": "stream",
     "text": [
      "Slope: 0.5302410594089594, Intercept: 2.517691666247418\n",
      "R-squared: 0.9259008661595178\n"
     ]
    },
    {
     "data": {
      "image/png": "[encoded data removed]",
      "text/plain": [
       "<Figure size 640x480 with 1 Axes>"
      ]
     },
     "metadata": {},
     "output_type": "display_data"
    }
   ],
   "source": [
    "# Scipyを使って、最小二乗法で切片αと勾配βの推定(決定論的手法)\n",
    "from scipy.stats import linregress\n",
    "\n",
    "# 線形回帰の適用\n",
    "slope, intercept, r_value, p_value, std_err = linregress(x, y)\n",
    "\n",
    "# 結果の表示\n",
    "print(f\"Slope: {slope}, Intercept: {intercept}\")\n",
    "print(f\"R-squared: {r_value**2}\")\n",
    "\n",
    "plt.figure()\n",
    "plt.scatter(x,y)\n",
    "plt.plot(np.linspace(x.min(),x.max(),10),slope*np.linspace(x.min(),x.max(),10)+intercept,c=\"r\",label=\"OLS\")\n",
    "plt.xlabel(\"x\")\n",
    "plt.ylabel(\"y\")\n",
    "plt.legend()\n",
    "plt.show()"
   ]
  },
  {
   "cell_type": "markdown",
   "id": "c4c354fb-7466-44dd-9c46-fa34ca26765e",
   "metadata": {
    "tags": []
   },
   "source": [
    "### ベイズ的手法"
   ]
  },
  {
   "cell_type": "markdown",
   "id": "b52d3528-9dbe-4742-92d7-173530d76720",
   "metadata": {},
   "source": [
    "L2正則化は、事後分布を最大化するようなパラメータが最良であるとする事後確率最大化(MAP; Maximum A Posteriori)}という考え方に従ってパラメータを\n",
    "決定していることと等価\n",
    "\n",
    "⇒MAP推定はリッジ回帰に一致するするので、ベイズ線形回帰はRidge回帰+予測の不確実性をモデリングしているという理解でOK\n",
    "\n",
    "https://hkashima.github.io/2-2.pdf"
   ]
  },
  {
   "cell_type": "markdown",
   "id": "eb7d44bb-83a9-479d-873c-14c161022aee",
   "metadata": {
    "tags": []
   },
   "source": [
    "#### モデリング"
   ]
  },
  {
   "cell_type": "code",
   "execution_count": 6,
   "id": "ee6426a5-ceb3-4a27-abb7-6bf0a6294501",
   "metadata": {},
   "outputs": [
    {
     "name": "stderr",
     "output_type": "stream",
     "text": [
      "/home/tsujimoto/.conda/envs/pymcextras/lib/python3.10/site-packages/pymc/data.py:321: FutureWarning: MutableData is deprecated. All Data variables are now mutable. Use Data instead.\n",
      "  warnings.warn(\n"
     ]
    }
   ],
   "source": [
    "#モデルの作成\n",
    "with pm.Model() as model_linear:\n",
    "    # MutableDataコンテナにデータを格納\n",
    "    x_data=pm.MutableData('x_data', x.flatten())\n",
    "    y_data=pm.MutableData('y_data', y)\n",
    "    \n",
    "    #事前分布の設定\n",
    "    alpha = pm.Normal('alpha', mu=0, sigma=3)#alpha ~ Normal(0,3)\n",
    "    beta = pm.Normal('beta', mu=0, sigma=3)#beta ~ Normal(0,3)\n",
    "    sigma = pm.HalfNormal('sigma',sigma=3)#sigma ~ HalfNormal(3)\n",
    "    \n",
    "    #線形予測子\n",
    "    mu = pm.Deterministic('mu', alpha + beta * x_data)#μ = α + β * x\n",
    "    \n",
    "    #尤度関数\n",
    "    y_pred = pm.Normal('y_pred', mu=mu, sigma=sigma, observed=y_data)#y ~ Normal(mu,sigma)"
   ]
  },
  {
   "cell_type": "code",
   "execution_count": 7,
   "id": "ec087da3-7774-44ed-af62-f215a8a28e7f",
   "metadata": {},
   "outputs": [
    {
     "data": {
      "image/svg+xml": [
       "<?xml version=\"1.0\" encoding=\"UTF-8\" standalone=\"no\"?>\n",
       "<!DOCTYPE svg PUBLIC \"-//W3C//DTD SVG 1.1//EN\"\n",
       " \"http://www.w3.org/Graphics/SVG/1.1/DTD/svg11.dtd\">\n",
       "<!-- Generated by graphviz version 3.0.0 (20220315.2325)\n",
       " -->\n",
       "<!-- Pages: 1 -->\n",
       "<svg width=\"444pt\" height=\"438pt\"\n",
       " viewBox=\"0.00 0.00 443.70 437.88\" xmlns=\"http://www.w3.org/2000/svg\" xmlns:xlink=\"http://www.w3.org/1999/xlink\">\n",
       "<g id=\"graph0\" class=\"graph\" transform=\"scale(1 1) rotate(0) translate(4 433.88)\">\n",
       "<polygon fill=\"white\" stroke=\"transparent\" points=\"-4,4 -4,-433.88 439.7,-433.88 439.7,4 -4,4\"/>\n",
       "<g id=\"clust1\" class=\"cluster\">\n",
       "<title>cluster10</title>\n",
       "<path fill=\"none\" stroke=\"black\" d=\"M140.4,-8C140.4,-8 236.4,-8 236.4,-8 242.4,-8 248.4,-14 248.4,-20 248.4,-20 248.4,-409.88 248.4,-409.88 248.4,-415.88 242.4,-421.88 236.4,-421.88 236.4,-421.88 140.4,-421.88 140.4,-421.88 134.4,-421.88 128.4,-415.88 128.4,-409.88 128.4,-409.88 128.4,-20 128.4,-20 128.4,-14 134.4,-8 140.4,-8\"/>\n",
       "<text text-anchor=\"middle\" x=\"233.4\" y=\"-15.8\" font-family=\"Times,serif\" font-size=\"14.00\">10</text>\n",
       "</g>\n",
       "<!-- mu -->\n",
       "<g id=\"node1\" class=\"node\">\n",
       "<title>mu</title>\n",
       "<polygon fill=\"none\" stroke=\"black\" points=\"240.4,-302.93 136.4,-302.93 136.4,-249.93 240.4,-249.93 240.4,-302.93\"/>\n",
       "<text text-anchor=\"middle\" x=\"188.4\" y=\"-287.73\" font-family=\"Times,serif\" font-size=\"14.00\">mu</text>\n",
       "<text text-anchor=\"middle\" x=\"188.4\" y=\"-272.73\" font-family=\"Times,serif\" font-size=\"14.00\">~</text>\n",
       "<text text-anchor=\"middle\" x=\"188.4\" y=\"-257.73\" font-family=\"Times,serif\" font-size=\"14.00\">Deterministic</text>\n",
       "</g>\n",
       "<!-- y_pred -->\n",
       "<g id=\"node2\" class=\"node\">\n",
       "<title>y_pred</title>\n",
       "<ellipse fill=\"lightgrey\" stroke=\"black\" cx=\"182.4\" cy=\"-165.48\" rx=\"40.11\" ry=\"37.45\"/>\n",
       "<text text-anchor=\"middle\" x=\"182.4\" y=\"-176.78\" font-family=\"Times,serif\" font-size=\"14.00\">y_pred</text>\n",
       "<text text-anchor=\"middle\" x=\"182.4\" y=\"-161.78\" font-family=\"Times,serif\" font-size=\"14.00\">~</text>\n",
       "<text text-anchor=\"middle\" x=\"182.4\" y=\"-146.78\" font-family=\"Times,serif\" font-size=\"14.00\">Normal</text>\n",
       "</g>\n",
       "<!-- mu&#45;&gt;y_pred -->\n",
       "<g id=\"edge5\" class=\"edge\">\n",
       "<title>mu&#45;&gt;y_pred</title>\n",
       "<path fill=\"none\" stroke=\"black\" d=\"M186.99,-249.89C186.39,-238.98 185.67,-225.89 184.98,-213.35\"/>\n",
       "<polygon fill=\"black\" stroke=\"black\" points=\"188.45,-212.79 184.41,-203 181.46,-213.18 188.45,-212.79\"/>\n",
       "</g>\n",
       "<!-- y_data -->\n",
       "<g id=\"node4\" class=\"node\">\n",
       "<title>y_data</title>\n",
       "<path fill=\"lightgrey\" stroke=\"black\" d=\"M198.9,-92C198.9,-92 165.9,-92 165.9,-92 159.9,-92 153.9,-86 153.9,-80 153.9,-80 153.9,-51 153.9,-51 153.9,-45 159.9,-39 165.9,-39 165.9,-39 198.9,-39 198.9,-39 204.9,-39 210.9,-45 210.9,-51 210.9,-51 210.9,-80 210.9,-80 210.9,-86 204.9,-92 198.9,-92\"/>\n",
       "<text text-anchor=\"middle\" x=\"182.4\" y=\"-76.8\" font-family=\"Times,serif\" font-size=\"14.00\">y_data</text>\n",
       "<text text-anchor=\"middle\" x=\"182.4\" y=\"-61.8\" font-family=\"Times,serif\" font-size=\"14.00\">~</text>\n",
       "<text text-anchor=\"middle\" x=\"182.4\" y=\"-46.8\" font-family=\"Times,serif\" font-size=\"14.00\">Data</text>\n",
       "</g>\n",
       "<!-- y_pred&#45;&gt;y_data -->\n",
       "<g id=\"edge1\" class=\"edge\">\n",
       "<title>y_pred&#45;&gt;y_data</title>\n",
       "<path fill=\"none\" stroke=\"black\" d=\"M182.4,-127.99C182.4,-119.58 182.4,-110.63 182.4,-102.25\"/>\n",
       "<polygon fill=\"black\" stroke=\"black\" points=\"185.9,-102.01 182.4,-92.01 178.9,-102.01 185.9,-102.01\"/>\n",
       "</g>\n",
       "<!-- x_data -->\n",
       "<g id=\"node3\" class=\"node\">\n",
       "<title>x_data</title>\n",
       "<path fill=\"lightgrey\" stroke=\"black\" d=\"M204.9,-413.88C204.9,-413.88 171.9,-413.88 171.9,-413.88 165.9,-413.88 159.9,-407.88 159.9,-401.88 159.9,-401.88 159.9,-372.88 159.9,-372.88 159.9,-366.88 165.9,-360.88 171.9,-360.88 171.9,-360.88 204.9,-360.88 204.9,-360.88 210.9,-360.88 216.9,-366.88 216.9,-372.88 216.9,-372.88 216.9,-401.88 216.9,-401.88 216.9,-407.88 210.9,-413.88 204.9,-413.88\"/>\n",
       "<text text-anchor=\"middle\" x=\"188.4\" y=\"-398.68\" font-family=\"Times,serif\" font-size=\"14.00\">x_data</text>\n",
       "<text text-anchor=\"middle\" x=\"188.4\" y=\"-383.68\" font-family=\"Times,serif\" font-size=\"14.00\">~</text>\n",
       "<text text-anchor=\"middle\" x=\"188.4\" y=\"-368.68\" font-family=\"Times,serif\" font-size=\"14.00\">Data</text>\n",
       "</g>\n",
       "<!-- x_data&#45;&gt;mu -->\n",
       "<g id=\"edge3\" class=\"edge\">\n",
       "<title>x_data&#45;&gt;mu</title>\n",
       "<path fill=\"none\" stroke=\"black\" d=\"M188.4,-360.84C188.4,-346.73 188.4,-328.98 188.4,-313.49\"/>\n",
       "<polygon fill=\"black\" stroke=\"black\" points=\"191.9,-313.19 188.4,-303.19 184.9,-313.19 191.9,-313.19\"/>\n",
       "</g>\n",
       "<!-- alpha -->\n",
       "<g id=\"node5\" class=\"node\">\n",
       "<title>alpha</title>\n",
       "<ellipse fill=\"none\" stroke=\"black\" cx=\"296.4\" cy=\"-387.38\" rx=\"40.11\" ry=\"37.45\"/>\n",
       "<text text-anchor=\"middle\" x=\"296.4\" y=\"-398.68\" font-family=\"Times,serif\" font-size=\"14.00\">alpha</text>\n",
       "<text text-anchor=\"middle\" x=\"296.4\" y=\"-383.68\" font-family=\"Times,serif\" font-size=\"14.00\">~</text>\n",
       "<text text-anchor=\"middle\" x=\"296.4\" y=\"-368.68\" font-family=\"Times,serif\" font-size=\"14.00\">Normal</text>\n",
       "</g>\n",
       "<!-- alpha&#45;&gt;mu -->\n",
       "<g id=\"edge2\" class=\"edge\">\n",
       "<title>alpha&#45;&gt;mu</title>\n",
       "<path fill=\"none\" stroke=\"black\" d=\"M269.42,-359.17C254.82,-344.44 236.66,-326.12 221.24,-310.56\"/>\n",
       "<polygon fill=\"black\" stroke=\"black\" points=\"223.44,-307.81 213.91,-303.17 218.47,-312.74 223.44,-307.81\"/>\n",
       "</g>\n",
       "<!-- sigma -->\n",
       "<g id=\"node6\" class=\"node\">\n",
       "<title>sigma</title>\n",
       "<ellipse fill=\"none\" stroke=\"black\" cx=\"59.4\" cy=\"-276.43\" rx=\"59.29\" ry=\"37.45\"/>\n",
       "<text text-anchor=\"middle\" x=\"59.4\" y=\"-287.73\" font-family=\"Times,serif\" font-size=\"14.00\">sigma</text>\n",
       "<text text-anchor=\"middle\" x=\"59.4\" y=\"-272.73\" font-family=\"Times,serif\" font-size=\"14.00\">~</text>\n",
       "<text text-anchor=\"middle\" x=\"59.4\" y=\"-257.73\" font-family=\"Times,serif\" font-size=\"14.00\">HalfNormal</text>\n",
       "</g>\n",
       "<!-- sigma&#45;&gt;y_pred -->\n",
       "<g id=\"edge6\" class=\"edge\">\n",
       "<title>sigma&#45;&gt;y_pred</title>\n",
       "<path fill=\"none\" stroke=\"black\" d=\"M93.33,-245.37C109.59,-230.97 129.08,-213.7 145.68,-199\"/>\n",
       "<polygon fill=\"black\" stroke=\"black\" points=\"148.41,-201.26 153.57,-192.01 143.77,-196.02 148.41,-201.26\"/>\n",
       "</g>\n",
       "<!-- beta -->\n",
       "<g id=\"node7\" class=\"node\">\n",
       "<title>beta</title>\n",
       "<ellipse fill=\"none\" stroke=\"black\" cx=\"395.4\" cy=\"-387.38\" rx=\"40.11\" ry=\"37.45\"/>\n",
       "<text text-anchor=\"middle\" x=\"395.4\" y=\"-398.68\" font-family=\"Times,serif\" font-size=\"14.00\">beta</text>\n",
       "<text text-anchor=\"middle\" x=\"395.4\" y=\"-383.68\" font-family=\"Times,serif\" font-size=\"14.00\">~</text>\n",
       "<text text-anchor=\"middle\" x=\"395.4\" y=\"-368.68\" font-family=\"Times,serif\" font-size=\"14.00\">Normal</text>\n",
       "</g>\n",
       "<!-- beta&#45;&gt;mu -->\n",
       "<g id=\"edge4\" class=\"edge\">\n",
       "<title>beta&#45;&gt;mu</title>\n",
       "<path fill=\"none\" stroke=\"black\" d=\"M364.84,-362.63C358.56,-358.17 351.88,-353.72 345.4,-349.91 315.04,-332.06 279.54,-315.35 249.98,-302.49\"/>\n",
       "<polygon fill=\"black\" stroke=\"black\" points=\"251.17,-299.19 240.61,-298.45 248.4,-305.62 251.17,-299.19\"/>\n",
       "</g>\n",
       "</g>\n",
       "</svg>\n"
      ],
      "text/plain": [
       "<graphviz.graphs.Digraph at 0x7ff14d4b7c70>"
      ]
     },
     "execution_count": 7,
     "metadata": {},
     "output_type": "execute_result"
    }
   ],
   "source": [
    "# モデル構造の図示化 (グラフィカルモデル作成)\n",
    "pm.model_to_graphviz(model_linear)"
   ]
  },
  {
   "cell_type": "markdown",
   "id": "02368630-b96a-4c3c-bbc7-c7032b53ceaf",
   "metadata": {},
   "source": [
    "グラフィカルモデルをみることで各つながりが可視化できます。モデルの間違えに気づきやすくなります。"
   ]
  },
  {
   "cell_type": "markdown",
   "id": "3f9f1751-2a0e-4d59-bba3-46439e6c2f28",
   "metadata": {
    "tags": []
   },
   "source": [
    "#### まずは事前分布からパラメータalpha(切片), beta(勾配)をサンプリング"
   ]
  },
  {
   "cell_type": "code",
   "execution_count": 8,
   "id": "e9071bb0-840e-4b07-b273-06e2c8739f14",
   "metadata": {},
   "outputs": [
    {
     "name": "stderr",
     "output_type": "stream",
     "text": [
      "Sampling: [alpha, beta, sigma, y_pred]\n"
     ]
    }
   ],
   "source": [
    "with model_linear:\n",
    "    idata = pm.sample_prior_predictive(draws=100, random_seed=42)"
   ]
  },
  {
   "cell_type": "code",
   "execution_count": 9,
   "id": "65ff160b-c7f9-41b9-b4fa-df81b0aedc16",
   "metadata": {},
   "outputs": [
    {
     "name": "stderr",
     "output_type": "stream",
     "text": [
      "/tmp/ipykernel_290160/1241299117.py:12: UserWarning: No artists with labels found to put in legend.  Note that artists whose label start with an underscore are ignored when legend() is called with no argument.\n",
      "  plt.legend(loc='lower right')\n"
     ]
    },
    {
     "data": {
      "image/png": "[encoded data removed]",
      "text/plain": [
       "<Figure size 640x480 with 1 Axes>"
      ]
     },
     "metadata": {},
     "output_type": "display_data"
    }
   ],
   "source": [
    "#事前分布からパラメータをサンプリングP(Θ)\n",
    "\n",
    "prior = idata.prior\n",
    "alpha_p = prior['alpha'].mean().item()\n",
    "beta_p = prior['beta'].mean().item()\n",
    "plt.plot(x, prior['alpha'].values + prior['beta'].values * x.reshape(-1,1), c='gray', alpha=0.5)\n",
    "\n",
    "plt.plot(x, y, 'C0.')\n",
    "\n",
    "plt.xlabel('x')\n",
    "plt.ylabel('y', rotation=0)\n",
    "plt.legend(loc='lower right')\n",
    "plt.show()"
   ]
  },
  {
   "cell_type": "markdown",
   "id": "4029f357-c137-4ef5-b3b6-25245598325c",
   "metadata": {},
   "source": [
    "事前分布は人が設定したもので、与えた事前分布の範囲で様々なパラメータalpha, betaがサンプリングされている。"
   ]
  },
  {
   "cell_type": "markdown",
   "id": "00395f5b-634e-4b28-964c-b8db078cb9ee",
   "metadata": {
    "tags": []
   },
   "source": [
    "#### データで事前分布を更新し、パラメータの事後分布を得る"
   ]
  },
  {
   "cell_type": "code",
   "execution_count": null,
   "id": "46bc59a4-5ed4-46a3-9633-725f43c276ad",
   "metadata": {},
   "outputs": [
    {
     "name": "stdout",
     "output_type": "stream",
     "text": [
      "CPU times: user 4 μs, sys: 5 μs, total: 9 μs\n",
      "Wall time: 19.3 μs\n"
     ]
    }
   ],
   "source": [
    "%time\n",
    "#サンプリング\n",
    "with model_linear:#バーンインが2000サンプルで2000サンプルを4チェイン実行、16000サンプリングしている\n",
    "    # trace = pm.sample(2000, tune= 2000, nuts_sampler=\"pymc\", chains=4)#サンプラーはpymcのデフォルト、省略も可能\n",
    "    trace = pm.sample(2000, tune=2000, nuts_sampler=\"numpyro\",chains=4)#(このモデルではシンプルすぎて恩恵がわからないが)numpyroをバックエンドに使うと爆速、ただしMCMCのサンプリングがnutsの時(サンプリングパラメータが連続値)の時のみしか使えない"
   ]
  },
  {
   "cell_type": "markdown",
   "id": "19493268-4e81-42c4-a155-efd64e3c5d8a",
   "metadata": {
    "tags": []
   },
   "source": [
    "#### 得られた事後分布の可視化"
   ]
  },
  {
   "cell_type": "markdown",
   "id": "45974ee4-344e-4e2b-afdb-a72534e4fa84",
   "metadata": {},
   "source": [
    "pymcでサンプリングした事後分布の図示化は基本的には、arvizで1行コードで可視化できます - 便利！"
   ]
  },
  {
   "cell_type": "code",
   "execution_count": null,
   "id": "74281d3a-4205-45bd-8300-c93c43e012a3",
   "metadata": {},
   "outputs": [],
   "source": [
    "#サンプリング結果の可視化\n",
    "az.plot_trace(trace)"
   ]
  },
  {
   "cell_type": "code",
   "execution_count": null,
   "id": "7db1818d-dc39-4c00-a3a6-f71ef37e0e0a",
   "metadata": {},
   "outputs": [],
   "source": [
    "#事後分布だけを可視化\n",
    "# az.plot_posterior(trace)\n",
    "az.plot_posterior(trace,var_names=[\"alpha\",\"beta\",\"sigma\"])"
   ]
  },
  {
   "cell_type": "code",
   "execution_count": null,
   "id": "9a065785-07cc-4852-b68a-f9f73e7d208e",
   "metadata": {},
   "outputs": [],
   "source": [
    "#事後分布の情報をテーブル型で表示\n",
    "\n",
    "pm.summary(trace)\n",
    "# pm.summary(trace,var_names=[\"alpha\",\"beta\",\"sigma\"])\n",
    "\n",
    "#r_hatが1.05以下ならmcmcの収束は問題なく、定常分布になっていると判断できます。"
   ]
  },
  {
   "cell_type": "code",
   "execution_count": null,
   "id": "1b131fee-efb0-4244-afb4-74308b422e9a",
   "metadata": {},
   "outputs": [],
   "source": [
    "#個人的にはこの図が見やすい(plot_forest)\n",
    "# az.plot_forest(trace,combined=True, hdi_prob=0.94, r_hat=True)\n",
    "az.plot_forest(trace,combined=True,var_names=[\"alpha\",\"beta\",\"sigma\"], hdi_prob=0.94, r_hat=True)\n",
    "\n",
    "#例えば、勾配betaのHDI94%が0にまでかかっていると、94%内の確率で傾きが0になる可能性があるので、このxは必ずしも正に寄与していると断定しない方がよい。今回の結果は、HDIが0を\n",
    "#含んでいないので、自信を持ってxは正に寄与していると言ってよい。"
   ]
  },
  {
   "cell_type": "code",
   "execution_count": null,
   "id": "f25c7cc9-0b02-4204-a9e9-277bf9146d0d",
   "metadata": {},
   "outputs": [],
   "source": [
    "#alpha,betaの事後分布を使ってプロット\n",
    "posterior_g = az.extract(trace)\n",
    "alpha_m = posterior_g['alpha'].mean().item()\n",
    "beta_m = posterior_g['beta'].mean().item()\n",
    "draws = range(0, posterior_g.sample.size, 10)\n",
    "plt.plot(x, posterior_g['alpha'][draws].values + posterior_g['beta'][draws].values * x.reshape(-1,1), c='gray', alpha=0.5)\n",
    "\n",
    "plt.plot(x, y, 'C0.')\n",
    "\n",
    "plt.plot(x, alpha_m + beta_m * x, c='k',\n",
    "         label=f'y = {alpha_m:.2f} + {beta_m:.2f} * x (MAP)')\n",
    "\n",
    "plt.plot(np.linspace(x.min(),x.max(),10),slope*np.linspace(x.min(),x.max(),10)+intercept,c=\"r\",label=f'y = {intercept:.2f} + {slope:.2f} * x (ML)')\n",
    "\n",
    "plt.xlabel('x')\n",
    "plt.ylabel('y', rotation=0)\n",
    "plt.legend(loc='lower right')\n",
    "plt.show()"
   ]
  },
  {
   "cell_type": "markdown",
   "id": "2e1b302e-d6d0-4c69-8ca8-48787752d25a",
   "metadata": {},
   "source": [
    "データによってalpha, betaが事前分布からベイズ更新され、事後分布が得られます。事後分布のほうが同じxでも取りうるyの値が狭くなっていることがわかります。"
   ]
  },
  {
   "cell_type": "markdown",
   "id": "b655e6ce-eb24-4dc0-906d-4bbb53d9ce33",
   "metadata": {
    "tags": []
   },
   "source": [
    "#### ベイズ信頼区間(Θ|y)とベイズ予測区間(y_new|y)の可視化"
   ]
  },
  {
   "cell_type": "code",
   "execution_count": null,
   "id": "3ba0e0ef-4e86-49cf-a44e-396c317a8907",
   "metadata": {},
   "outputs": [],
   "source": [
    "#ベイズ信頼区間 p(Θ|y)#誤差を含まないのでデータが多い点ほど信頼区間が狭くなる\n",
    "plt.plot(x, y, 'C0.')\n",
    "\n",
    "# plt.plot(x, y_ml, 'r--', label=f'y = {intercept:.2f} + {slope:.2f} * x (ML)')\n",
    "plt.plot(x, alpha_m + beta_m * x, c='k',\n",
    "         label=f'y = {alpha_m:.2f} + {beta_m:.2f} * x (MAP)')\n",
    "\n",
    "sig = az.plot_hdi(x.flatten(), posterior_g['mu'].T, hdi_prob=0.94, color='k')\n",
    "\n",
    "plt.xlabel('x')\n",
    "plt.ylabel('y', rotation=0)\n",
    "plt.legend(loc='lower right')"
   ]
  },
  {
   "cell_type": "code",
   "execution_count": null,
   "id": "3a10f4b2-9d35-4f59-841a-9957227f2237",
   "metadata": {},
   "outputs": [],
   "source": [
    "#事後分布からサンプル発生させる。\n",
    "ppc = pm.sample_posterior_predictive(trace, model=model_linear)"
   ]
  },
  {
   "cell_type": "code",
   "execution_count": null,
   "id": "4fa08ac4-a8cb-409b-a1b0-ee4e2ef9ca65",
   "metadata": {},
   "outputs": [],
   "source": [
    "#ベイズ予測区間 p(y_new|y)で誤差を含む\n",
    "plt.plot(x, y, 'b.')\n",
    "plt.plot(x, alpha_m + beta_m * x, c='k',\n",
    "         label=f'y = {alpha_m:.2f} + {beta_m:.2f} * x')\n",
    "\n",
    "az.plot_hdi(x.flatten(), ppc.posterior_predictive['y_pred'], hdi_prob=0.5, color='gray')\n",
    "az.plot_hdi(x.flatten(), ppc.posterior_predictive['y_pred'], hdi_prob=0.94,color='gray')\n",
    "\n",
    "plt.xlabel('x')\n",
    "plt.ylabel('y', rotation=0)\n",
    "plt.show()\n"
   ]
  },
  {
   "cell_type": "markdown",
   "id": "fc399940-b7ad-4d95-9c3e-c210b947b79c",
   "metadata": {
    "tags": []
   },
   "source": [
    "## ベイズ線形重回帰"
   ]
  },
  {
   "cell_type": "markdown",
   "id": "1f5d878e-0115-4516-9419-cbc9606ce3f9",
   "metadata": {
    "tags": []
   },
   "source": [
    "### トイデータ作成"
   ]
  },
  {
   "cell_type": "code",
   "execution_count": null,
   "id": "287a20f0-1993-4b4e-b437-e6e3a56cd4c5",
   "metadata": {},
   "outputs": [],
   "source": [
    "#トイデータを作成\n",
    "np.random.seed(1)\n",
    "N = (10,3)#データ数, 特徴量数\n",
    "alpha_real = 3#切片\n",
    "beta_real = np.array([1.3,0.5,-0.7])#勾配\n",
    "sigma_real = np.random.normal(0, 0.6, size=N[0])\n",
    "\n",
    "X = np.random.normal(0, N[1], N)\n",
    "y_real = alpha_real + np.dot(X,beta_real)\n",
    "y = y_real + sigma_real\n",
    "\n",
    "X=pd.DataFrame(X,columns=[\"x0\",\"x1\",\"x2\"])#pd.DataFrameに変換\n",
    "display(X)\n",
    "print(y)"
   ]
  },
  {
   "cell_type": "code",
   "execution_count": null,
   "id": "67fb2360-b21d-40dd-ba19-f1cee7b2c70c",
   "metadata": {},
   "outputs": [],
   "source": [
    "for i in range(len(X.columns)):\n",
    "    plt.scatter(X.iloc[:,i],y,label=X.columns[i])\n",
    "plt.xlabel(\"x\")\n",
    "plt.ylabel(\"y\")\n",
    "plt.legend()"
   ]
  },
  {
   "cell_type": "markdown",
   "id": "dc7992eb-dd48-4629-9518-683b96442288",
   "metadata": {
    "tags": []
   },
   "source": [
    "### モデリング"
   ]
  },
  {
   "cell_type": "code",
   "execution_count": null,
   "id": "8b7f66a4-fae1-43ef-96aa-8ae3cc896c32",
   "metadata": {},
   "outputs": [],
   "source": [
    "#モデルの構築\n",
    "coords={\"col\":X.columns.tolist()}#特徴量の名前をcoordsという形で与えておく\n",
    "\n",
    "with pm.Model(coords=coords) as model_multi:\n",
    "    # MutableDataコンテナにデータを格納\n",
    "    X_data=pm.MutableData('X_data', X)\n",
    "    y_data=pm.MutableData('y_data', y)\n",
    "    \n",
    "    # 事前分布の設定\n",
    "    alpha = pm.Normal('alpha', mu=0, sigma=3)\n",
    "    beta = pm.Normal('beta', mu=0, sigma=3, dims=\"col\") #Baysian Ridge(L2)\n",
    "    # beta = pm.Laplace('beta', mu=0, b=3, dims=\"col\") #Baysian Lasso(L1)\n",
    "\n",
    "    sigma = pm.HalfNormal('sigma',sigma=1)#sigma \n",
    "    \n",
    "    \n",
    "    # 線形予測子\n",
    "    mu = pm.Deterministic(\"mu\",alpha + pm.math.dot(X_data, beta))\n",
    "    \n",
    "    #尤度関数\n",
    "    y_pred = pm.Normal('y_pred', mu=mu, sigma=sigma, observed=y_data)#y ~ Normal(mu,sigma)\n",
    "    # y_pred = pm.Cauchy('y_pred', alpha=mu, beta=1, observed=y_data) # Robust Linear Regression(外れ値に堅牢)"
   ]
  },
  {
   "cell_type": "code",
   "execution_count": null,
   "id": "770a6994-093c-4439-9b4f-8c95fedf1411",
   "metadata": {},
   "outputs": [],
   "source": [
    "# モデル構造の図示化 (グラフィカルモデル作成)\n",
    "pm.model_to_graphviz(model_multi)"
   ]
  },
  {
   "cell_type": "code",
   "execution_count": null,
   "id": "4070933b-671d-4856-b81a-b9e6f4d16e94",
   "metadata": {},
   "outputs": [],
   "source": [
    "%time\n",
    "#サンプリング\n",
    "with model_multi:        \n",
    "    trace_multi = pm.sample(2000, tune=2000, nuts_sampler=\"numpyro\",chains=4)"
   ]
  },
  {
   "cell_type": "markdown",
   "id": "a8cb6d19-e8aa-45b6-a83d-0a2650598d19",
   "metadata": {
    "tags": []
   },
   "source": [
    "### 可視化"
   ]
  },
  {
   "cell_type": "code",
   "execution_count": null,
   "id": "44054897-b133-4816-b7fa-c64ff174fed4",
   "metadata": {},
   "outputs": [],
   "source": [
    "#事後分布だけを可視化\n",
    "# az.plot_posterior(trace)\n",
    "az.plot_posterior(trace_multi,var_names=[\"alpha\",\"beta\",\"sigma\"])"
   ]
  },
  {
   "cell_type": "code",
   "execution_count": null,
   "id": "332c7238-82e4-43ce-a4ec-bae3181311ec",
   "metadata": {},
   "outputs": [],
   "source": [
    "#事後分布の情報をテーブル型で表示\n",
    "pm.summary(trace_multi,var_names=[\"alpha\",\"beta\",\"sigma\"])"
   ]
  },
  {
   "cell_type": "code",
   "execution_count": null,
   "id": "b813af05-610d-4ced-8c59-ca4941cd5d4a",
   "metadata": {},
   "outputs": [],
   "source": [
    "#個人的にはこの図が見やすい(plot_forest)\n",
    "az.plot_forest(trace_multi,combined=True,var_names=[\"alpha\",\"beta\",\"sigma\"], hdi_prob=0.94, r_hat=True)"
   ]
  },
  {
   "cell_type": "markdown",
   "id": "baf02392-cf7e-47d7-aeba-3e515501b4b2",
   "metadata": {
    "tags": []
   },
   "source": [
    "### 事後分布からのサンプリング"
   ]
  },
  {
   "cell_type": "code",
   "execution_count": null,
   "id": "68a1ad00-f0c5-4afa-a7c3-14f499c5c29d",
   "metadata": {},
   "outputs": [],
   "source": [
    "with model_multi:#事後分布を使ってサンプリング\n",
    "    ppc_multi=pm.sample_posterior_predictive(trace_multi)"
   ]
  },
  {
   "cell_type": "code",
   "execution_count": null,
   "id": "5d2893c2-2313-42ac-8df6-ea7752297de3",
   "metadata": {},
   "outputs": [],
   "source": [
    "#yy-plot を書いてみる\n",
    "mcmc_sample = np.array(ppc_multi.posterior_predictive.to_dataarray()).squeeze()[i].reshape(-1, len(X.index))\n",
    "mcmc_sample.shape\n",
    "\n",
    "# 予測値と実測値のプロット\n",
    "quantile = [10, 50, 90]\n",
    "colname = ['p' + str(x) for x in quantile]\n",
    "# パーセンタイルを計算してデータフレームに変換\n",
    "data3a_pred = pd.DataFrame(np.percentile(mcmc_sample, q=quantile, axis=0).T, columns=colname, index=X.index)\n",
    "data3a_pred\n",
    "d = pd.concat([X, data3a_pred], axis=1)\n",
    "\n",
    "# プロットの設定\n",
    "plt.figure(figsize=(6, 6))\n",
    "plt.errorbar(y, d.p50, \n",
    "             yerr=[d.p50 - d.p10, d.p90 - d.p50],\n",
    "             fmt='o', ecolor='gray', ms=10, alpha=0.8, marker='o', mfc=\"red\", capsize=3)\n",
    "\n",
    "# 対角線のプロット\n",
    "plt.plot([y.min(),y.max()], [y.min(),y.max()], 'k--', alpha=0.7)\n",
    "# ラベルとタイトル\n",
    "plt.xlabel('Observed', fontsize=20)\n",
    "plt.ylabel('Predicted', fontsize=20)\n",
    "plt.legend()\n",
    "plt.title(\"yyplot\")\n",
    "# プロットの表示\n",
    "plt.show()"
   ]
  },
  {
   "cell_type": "markdown",
   "id": "cf484037-8ae1-4f5a-912e-d346baf4b9d9",
   "metadata": {
    "tags": []
   },
   "source": [
    "##　ベイズロジスティック回帰"
   ]
  },
  {
   "cell_type": "markdown",
   "id": "6233dcf7-f23d-4991-9153-deecc2a52a80",
   "metadata": {
    "tags": []
   },
   "source": [
    "### トイデータ作成(IRISを利用)"
   ]
  },
  {
   "cell_type": "code",
   "execution_count": null,
   "id": "eed9c69a-13c3-4873-9c73-cd91cbad094e",
   "metadata": {},
   "outputs": [],
   "source": [
    "#トイデータとしてIrisデータを使用\n",
    "\n",
    "from sklearn import datasets\n",
    "\n",
    "# Irisデータセットをロード\n",
    "iris = datasets.load_iris()\n",
    "\n",
    "# 特徴量とラベル名を表示\n",
    "print(\"Features: \", iris.feature_names)\n",
    "print(\"Labels: \", iris.target_names)\n",
    "\n",
    "# DataFrameに変換\n",
    "iris_df = pd.DataFrame(data=iris.data, columns=iris.feature_names)\n",
    "iris_df['species'] = iris.target\n",
    "\n",
    "# データの最初の数行を表示\n",
    "display(iris_df.head())\n"
   ]
  },
  {
   "cell_type": "code",
   "execution_count": null,
   "id": "1e86ba92-95e1-4ae9-ac59-571d6526fd09",
   "metadata": {},
   "outputs": [],
   "source": [
    "#ロジスティック回帰をするためには2値分類\n",
    "df=iris_df.query(\"species ==(0,1)\")\n",
    "print(df.shape)"
   ]
  },
  {
   "cell_type": "code",
   "execution_count": null,
   "id": "99f1fd62-6532-4349-ad11-3ff271c3c5e5",
   "metadata": {},
   "outputs": [],
   "source": [
    "#特徴量の数も2つにする\n",
    "df = iris_df.query(\"species == (0, 1)\")\n",
    "y_0 = pd.Categorical(df['species']).codes\n",
    "x_n =[\"sepal length (cm)\",\"sepal width (cm)\"] #とりあえず説明変数は\"sepal length (cm)\" ,\"sepal width (cm)\"に限定\n",
    "x_0 = df[x_n].values\n",
    "x_std = (x_0 - x_0.mean())/x_0.std()#標準化\n"
   ]
  },
  {
   "cell_type": "markdown",
   "id": "1f667e8b-6998-4939-b54d-0938455e8de2",
   "metadata": {
    "tags": []
   },
   "source": [
    "### モデリング"
   ]
  },
  {
   "cell_type": "code",
   "execution_count": null,
   "id": "87b8b8e6-b8ad-4de8-a59d-5b55e27c0d23",
   "metadata": {},
   "outputs": [],
   "source": [
    "#モデルの構築\n",
    "coords={\"col\":x_n}\n",
    "\n",
    "with pm.Model(coords=coords) as model_lr:\n",
    "    # MutableDataコンテナにデータを格納\n",
    "    x_data=pm.MutableData('x_data', x_std)\n",
    "    y_data=pm.MutableData('y_data', y_0)\n",
    "    \n",
    "    #事前分布の設定\n",
    "    alpha = pm.Normal('alpha', mu=0, sigma=3)#alpha ~ Normal(0,3)\n",
    "    beta = pm.Normal('beta', mu=0, sigma=3,dims=\"col\")#beta ~ Normal(0,3)\n",
    "    \n",
    "    #線形予測子\n",
    "    mu = pm.Deterministic('mu', alpha + pm.math.dot(x_data, beta) )#μ = α + β * x\n",
    "    p = pm.Deterministic('p', pm.math.sigmoid(mu))#シグモイド関数で確率に変換(0~1)\n",
    "    bd = pm.Deterministic('bd',  -alpha/beta[1] - beta[0]/beta[1] * x_data[:,0])    \n",
    "    \n",
    "    #尤度関数\n",
    "    y_pred = pm.Bernoulli('y_pred', p=p, observed=y_data)#尤度関数は0,1なのでベルヌーイ分布、与えるパラメータは確率p"
   ]
  },
  {
   "cell_type": "code",
   "execution_count": null,
   "id": "c0cb3e46-c32f-4968-9585-fbcac97c184d",
   "metadata": {},
   "outputs": [],
   "source": [
    "# モデル構造の図示化 (グラフィカルモデル作成)\n",
    "pm.model_to_graphviz(model_lr)\n",
    "\n",
    "#グラフでモデルが思ったような形になっているか確認"
   ]
  },
  {
   "cell_type": "code",
   "execution_count": null,
   "id": "7b161f90-ac89-4cf8-8a41-461d31c92266",
   "metadata": {},
   "outputs": [],
   "source": [
    "#サンプリングの実行、numpyroをバックエンドにすると早い\n",
    "with model_lr:#バーンインが2000サンプルで2000サンプルを4チェイン実行\n",
    "    trace_lr = pm.sample(2000, tune=2000, nuts_sampler=\"numpyro\",chains=4)"
   ]
  },
  {
   "cell_type": "markdown",
   "id": "b5ae8a7c-d3e4-4a7a-a787-f31c553f74ed",
   "metadata": {
    "tags": []
   },
   "source": [
    "### 結果の可視化"
   ]
  },
  {
   "cell_type": "code",
   "execution_count": null,
   "id": "4928d2c6-b797-437d-b6ff-b6e6e571700a",
   "metadata": {},
   "outputs": [],
   "source": [
    "#事後分布の情報をテーブル型で表示\n",
    "pm.summary(trace_lr,var_names=[\"alpha\",\"beta\"])"
   ]
  },
  {
   "cell_type": "code",
   "execution_count": null,
   "id": "dd30fd6a-be81-49cc-b7a0-d046a56f343f",
   "metadata": {},
   "outputs": [],
   "source": [
    "#個人的にはこの図が見やすい(plot_forest)\n",
    "az.plot_forest(trace_lr,combined=True,var_names=[\"alpha\",\"beta\"], hdi_prob=0.94, r_hat=True)"
   ]
  },
  {
   "cell_type": "code",
   "execution_count": null,
   "id": "8d7dbcc4-e52d-4918-87ff-61a3983d6110",
   "metadata": {},
   "outputs": [],
   "source": [
    "#ロジスティック回帰における分離線、ベイズなので、不確実性が評価できる\n",
    "idx = np.argsort(x_std[:,0]) \n",
    "bd = trace_lr.posterior['bd'].mean((\"chain\", \"draw\"))[idx] \n",
    "plt.scatter(x_std[:,0], x_std[:,1], c=[f'C{x}' for x in y_0]) \n",
    "plt.plot(x_std[:,0][idx], bd, color='k')\n",
    "\n",
    "az.plot_hdi(x_std[:,0], trace_lr.posterior['bd'], color='k')\n",
    " \n",
    "plt.xlabel(f\"{x_n[0]}(std)\") \n",
    "plt.ylabel(f\"{x_n[1]}(std)\")"
   ]
  },
  {
   "cell_type": "code",
   "execution_count": null,
   "id": "cbdacc45-eb88-453a-b35e-83beb046d685",
   "metadata": {},
   "outputs": [],
   "source": []
  },
  {
   "cell_type": "code",
   "execution_count": null,
   "id": "e294eb06-8b67-4200-8d4d-5f0b806d98db",
   "metadata": {},
   "outputs": [],
   "source": []
  },
  {
   "cell_type": "code",
   "execution_count": null,
   "id": "6f5bf5f7-b365-463b-a5fd-4b3ca9a7230f",
   "metadata": {},
   "outputs": [],
   "source": []
  },
  {
   "cell_type": "code",
   "execution_count": null,
   "id": "55911c5b-420c-485e-a8b9-bd35812e1e57",
   "metadata": {},
   "outputs": [],
   "source": []
  },
  {
   "cell_type": "code",
   "execution_count": null,
   "id": "77f4cd97-1d54-4fd2-b546-cf16510d32d0",
   "metadata": {},
   "outputs": [],
   "source": []
  }
 ],
 "metadata": {
  "kernelspec": {
   "display_name": "pymcextras",
   "language": "python",
   "name": "pymcextras"
  },
  "language_info": {
   "codemirror_mode": {
    "name": "ipython",
    "version": 3
   },
   "file_extension": ".py",
   "mimetype": "text/x-python",
   "name": "python",
   "nbconvert_exporter": "python",
   "pygments_lexer": "ipython3",
   "version": "3.10.16"
  }
 },
 "nbformat": 4,
 "nbformat_minor": 5
}
